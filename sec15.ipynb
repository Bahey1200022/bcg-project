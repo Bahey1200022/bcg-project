{
 "cells": [
  {
   "cell_type": "code",
   "execution_count": 1,
   "id": "6b3cd3c7",
   "metadata": {},
   "outputs": [],
   "source": [
    "# Imports\n",
    "import pandas as pd\n",
    "import matplotlib.pyplot as plt\n",
    "import numpy as np\n",
    "from scipy.signal import resample\n",
    "import pywt\n",
    "import heartpy as hp\n",
    "from scipy.signal import savgol_filter\n",
    "from scipy.signal import butter, filtfilt, resample\n",
    "from scipy import signal\n",
    "from data_subplot import data_subplot\n",
    "\n",
    "from detect_body_movements import detect_patterns\n",
    "from band_pass_filtering import band_pass_filtering\n",
    "from modwt_matlab_fft import modwt\n",
    "from modwt_mra_matlab_fft import modwtmra\n",
    "import math\n",
    "from remove_nonLinear_trend import remove_nonLinear_trend\n",
    "from compute_vitals import vitals\n",
    "\n",
    "%matplotlib inline"
   ]
  },
  {
   "cell_type": "code",
   "execution_count": 2,
   "id": "e665d8f3",
   "metadata": {},
   "outputs": [],
   "source": [
    "\n",
    "\n",
    "# SYNC\n",
    "def build_bcg_df(bcg_values, initial_timestamp, fs):\n",
    "    \"\"\"\n",
    "    Constructs a BCG DataFrame from raw values, initial timestamp, and sampling rate.\n",
    "    \n",
    "    Args:\n",
    "        bcg_values: List of BCG signal values (e.g., [-86, -90, -91, -86])\n",
    "        initial_timestamp: Timestamp of first sample (epoch ms or datetime string)\n",
    "        fs: Sampling frequency in Hz\n",
    "        \n",
    "    Returns:\n",
    "        pd.DataFrame with columns: ['Timestamp', 'BCG', 'Time']\n",
    "    \"\"\"\n",
    "    # Convert timestamp to datetime if it's a string\n",
    "    if isinstance(initial_timestamp, str):\n",
    "        initial_timestamp = pd.to_datetime(initial_timestamp)\n",
    "    elif isinstance(initial_timestamp, (int, float)):\n",
    "        initial_timestamp = pd.to_datetime(initial_timestamp, unit='ms')\n",
    "    \n",
    "    # Calculate time intervals\n",
    "    period = 1 / fs\n",
    "    timestamps = [initial_timestamp + pd.Timedelta(seconds=i*period) \n",
    "                 for i in range(len(bcg_values))]\n",
    "    \n",
    "    # Create DataFrame\n",
    "    df = pd.DataFrame({\n",
    "        'Timestamp': timestamps,\n",
    "        'BCG': bcg_values\n",
    "    })\n",
    "    \n",
    "    # Add human-readable time\n",
    "    df['Time'] = df['Timestamp'].dt.strftime('%H:%M:%S.%f')\n",
    "    \n",
    "    return df\n",
    "\n",
    "\n",
    "\n",
    "\n",
    "def synchronize_bcg_and_hr(df_bcg_raw, df_hr_raw):\n",
    "    \"\"\"\n",
    "    Builds and synchronizes BCG and HR DataFrames starting from the first common time.\n",
    "    \n",
    "    Args:\n",
    "        df_bcg_raw: Raw BCG DataFrame from CSV. Must contain 'BCG', 'Timestamp', and 'fs' columns.\n",
    "        df_hr_raw: Raw HR DataFrame from CSV. Must contain 'Timestamp' column in datetime-compatible format.\n",
    "    \n",
    "    Returns:\n",
    "        bcg_aligned, hr_aligned: Time-synchronized DataFrames\n",
    "    \"\"\"\n",
    "        # Parse BCG values and metadata\n",
    "    bcg_values = df_bcg_raw['BCG'].tolist()\n",
    "    initial_timestamp = pd.to_datetime(df_bcg_raw.loc[0, 'Timestamp'], unit='ms')\n",
    "    fs = float(df_bcg_raw.loc[0, 'fs'])\n",
    "\n",
    "    # Build BCG DataFrame\n",
    "    df_bcg = build_bcg_df(bcg_values, initial_timestamp, fs)\n",
    "\n",
    "    # Parse HR timestamps\n",
    "    df_hr_raw['Timestamp'] = pd.to_datetime(df_hr_raw['Timestamp'])\n",
    "\n",
    "    # Find common time range\n",
    "    start_time = max(df_bcg['Timestamp'].min(), df_hr_raw['Timestamp'].min())\n",
    "    end_time = min(df_bcg['Timestamp'].max(), df_hr_raw['Timestamp'].max())\n",
    "\n",
    "    # Trim both DataFrames to common range\n",
    "    bcg_aligned = df_bcg[(df_bcg['Timestamp'] >= start_time) & (df_bcg['Timestamp'] <= end_time)].copy()\n",
    "    hr_aligned = df_hr_raw[(df_hr_raw['Timestamp'] >= start_time) & (df_hr_raw['Timestamp'] <= end_time)].copy()\n",
    "\n",
    "    # Reset index\n",
    "    bcg_aligned.reset_index(drop=True, inplace=True)\n",
    "    hr_aligned.reset_index(drop=True, inplace=True)\n",
    "\n",
    "    return bcg_aligned, hr_aligned\n",
    "\n",
    "\n",
    "\n",
    "\n"
   ]
  },
  {
   "cell_type": "code",
   "execution_count": 3,
   "id": "e2c53a5b",
   "metadata": {},
   "outputs": [
    {
     "name": "stdout",
     "output_type": "stream",
     "text": [
      "Time synchronized BCG DataFrame:\n",
      "                      Timestamp  BCG             Time\n",
      "0 2023-11-04 19:12:20.003285714  -60  19:12:20.003285\n",
      "1 2023-11-04 19:12:20.010428571  -65  19:12:20.010428\n",
      "2 2023-11-04 19:12:20.017571428 -101  19:12:20.017571\n",
      "3 2023-11-04 19:12:20.024714285  -59  19:12:20.024714\n",
      "4 2023-11-04 19:12:20.031857142  -15  19:12:20.031857\n",
      "\n",
      "Time synchronized Heart Rate DataFrame:\n",
      "            Timestamp  Heart Rate  RR Interval in seconds\n",
      "0 2023-11-04 19:12:20          99                   0.613\n",
      "1 2023-11-04 19:12:20          99                   0.621\n",
      "2 2023-11-04 19:12:21          98                   0.626\n",
      "3 2023-11-04 19:12:22          98                   0.632\n",
      "4 2023-11-04 19:12:22          98                   0.635\n"
     ]
    }
   ],
   "source": [
    "\n",
    "#read csv files\n",
    "df_bcg= pd.read_csv('/home/bahey/bio_data/dataset/data/01/BCG/01_20231105_BCG.csv')        #### n4 &\n",
    "df_heart=pd.read_csv(\"/home/bahey/bio_data/dataset/data/01/Reference/RR/01_20231105_RR.csv\")   #### 1 second one\n",
    "\n",
    "# step 1 :Synchronize BCG and HR DataFrames from the first common time\n",
    "bcg_sync, hr_sync = synchronize_bcg_and_hr(df_bcg, df_heart)\n",
    "\n",
    "print(\"Time synchronized BCG DataFrame:\")\n",
    "print(bcg_sync.head())\n",
    "print(\"\\nTime synchronized Heart Rate DataFrame:\")\n",
    "print(hr_sync.head())\n"
   ]
  },
  {
   "cell_type": "code",
   "execution_count": 4,
   "id": "ba657647",
   "metadata": {},
   "outputs": [
    {
     "name": "stdout",
     "output_type": "stream",
     "text": [
      "                       HR_mean  HR_count\n",
      "Timestamp                               \n",
      "2023-11-04 19:12:15  98.687500        16\n",
      "2023-11-04 19:12:30  98.541667        24\n",
      "2023-11-04 19:12:45  92.956522        23\n",
      "2023-11-04 19:13:00  92.800000        20\n",
      "2023-11-04 19:13:15  92.826087        23\n",
      "...                        ...       ...\n",
      "2023-11-04 22:04:45  58.800000        15\n",
      "2023-11-04 22:05:00  59.333333        15\n",
      "2023-11-04 22:05:15  59.933333        15\n",
      "2023-11-04 22:05:30  60.066667        15\n",
      "2023-11-04 22:05:45  59.571429         7\n",
      "\n",
      "[695 rows x 2 columns]\n"
     ]
    },
    {
     "name": "stderr",
     "output_type": "stream",
     "text": [
      "/tmp/ipykernel_32811/1930026416.py:7: FutureWarning: 'S' is deprecated and will be removed in a future version, please use 's' instead.\n",
      "  windowed_df = hr_sync.resample('15S').agg({\n"
     ]
    }
   ],
   "source": [
    "hr_sync['Timestamp'] = pd.to_datetime(hr_sync['Timestamp'])\n",
    "\n",
    "# Set Timestamp as the index\n",
    "hr_sync.set_index('Timestamp', inplace=True)\n",
    "\n",
    "# Group by 10-second windows and compute both mean and count\n",
    "windowed_df = hr_sync.resample('15S').agg({\n",
    "    'Heart Rate': ['mean', 'count']\n",
    "})\n",
    "\n",
    "# Optional: flatten MultiIndex columns\n",
    "windowed_df.columns = ['HR_mean', 'HR_count']\n",
    "\n",
    "# Print the result\n",
    "print(windowed_df)\n"
   ]
  },
  {
   "cell_type": "code",
   "execution_count": 5,
   "id": "6a20bef9",
   "metadata": {},
   "outputs": [
    {
     "name": "stdout",
     "output_type": "stream",
     "text": [
      "                      Timestamp         BCG             Time\n",
      "0 2023-11-04 19:12:20.003285714  -62.199690  19:12:20.003285\n",
      "1 2023-11-04 19:12:20.023285755  -51.919848  19:12:20.023285\n",
      "2 2023-11-04 19:12:20.043285796 -125.002844  19:12:20.043285\n",
      "3 2023-11-04 19:12:20.063285837 -811.109988  19:12:20.063285\n",
      "4 2023-11-04 19:12:20.083285878 -414.326722  19:12:20.083285\n"
     ]
    }
   ],
   "source": [
    "# resample bcg to 50 hz \n",
    "bcg_sync.set_index('Timestamp', inplace=True)\n",
    "\n",
    "# Original sampling rate (140 Hz)\n",
    "fs_original = 140  \n",
    "# Target sampling rate (50 Hz)\n",
    "fs_target = 50  \n",
    "\n",
    "# Calculate resampling factor\n",
    "resample_factor = fs_target / fs_original\n",
    "\n",
    "# Number of samples in resampled signal\n",
    "num_samples = int(len(bcg_sync) * resample_factor)\n",
    "\n",
    "# Resample the BCG signal using Fourier method (preserves timing information)\n",
    "resampled_bcg = signal.resample(bcg_sync['BCG'], num_samples)\n",
    "\n",
    "# Create new timestamps for the resampled data\n",
    "start_time = bcg_sync.index[0]\n",
    "end_time = bcg_sync.index[-1]\n",
    "new_timestamps = pd.date_range(start=start_time, end=end_time, periods=num_samples)\n",
    "\n",
    "# Create new DataFrame with resampled data\n",
    "resampled_df = pd.DataFrame({\n",
    "    'BCG': resampled_bcg,\n",
    "    'Time': new_timestamps.time\n",
    "}, index=new_timestamps)\n",
    "\n",
    "# Reset index if you want Timestamp as a column again\n",
    "resampled_df.reset_index(inplace=True)\n",
    "resampled_df.rename(columns={'index': 'Timestamp'}, inplace=True)\n",
    "\n",
    "print(resampled_df.head())"
   ]
  },
  {
   "cell_type": "code",
   "execution_count": 6,
   "id": "29a319aa",
   "metadata": {},
   "outputs": [
    {
     "name": "stdout",
     "output_type": "stream",
     "text": [
      "1041\n"
     ]
    }
   ],
   "source": [
    "total =len(resampled_df)/500\n",
    "total = int(total)\n",
    "print(total)"
   ]
  },
  {
   "cell_type": "code",
   "execution_count": 7,
   "id": "0cc1aa65",
   "metadata": {},
   "outputs": [
    {
     "name": "stdout",
     "output_type": "stream",
     "text": [
      "Data stream length: 520581\n"
     ]
    },
    {
     "name": "stderr",
     "output_type": "stream",
     "text": [
      "/tmp/ipykernel_32811/451351055.py:3: FutureWarning: Series.view is deprecated and will be removed in a future version. Use ``astype`` as an alternative to change the dtype.\n",
      "  bcg['epoch'] = bcg['Timestamp'].view('int64') // 10**6 # convert to milliseconds\n"
     ]
    },
    {
     "name": "stdout",
     "output_type": "stream",
     "text": [
      "Bad windows: [ 45  90  91  95  96 149 150 151 152 187 188 189 202 204 229 278 295 301\n",
      " 302 365 366 370 375 399 400 421 495 549 552 553 554 616 617 626 627 630\n",
      " 633 639 640 644 662 674 680 681 687 689 690 691 693]\n"
     ]
    },
    {
     "data": {
      "image/png": "[encoded data removed]",
      "text/plain": [
       "<Figure size 640x480 with 1 Axes>"
      ]
     },
     "metadata": {},
     "output_type": "display_data"
    }
   ],
   "source": [
    "bcg = resampled_df\n",
    "start_point, end_point, window_shift, fs = 0, 750, 750, 50\n",
    "bcg['epoch'] = bcg['Timestamp'].view('int64') // 10**6 # convert to milliseconds\n",
    "utc_time = bcg['epoch']\n",
    "data_stream = bcg['BCG']\n",
    "print(\"Data stream length:\", len(data_stream))\n",
    "data_stream, utc_time, bad_windows  = detect_patterns(start_point, end_point, window_shift, data_stream, utc_time, plot=1)\n",
    "print(\"Bad windows:\", bad_windows)"
   ]
  },
  {
   "cell_type": "code",
   "execution_count": 8,
   "id": "5853f0ba",
   "metadata": {},
   "outputs": [
    {
     "name": "stdout",
     "output_type": "stream",
     "text": [
      "1         -51.919848\n",
      "2        -125.002844\n",
      "3        -811.109988\n",
      "4        -414.326722\n",
      "5        -106.564291\n",
      "             ...    \n",
      "520576    -25.777328\n",
      "520577    -31.191030\n",
      "520578    -28.447707\n",
      "520579    -34.915308\n",
      "520580    -25.351139\n",
      "Name: BCG, Length: 520531, dtype: float64\n",
      "1         1699125140023\n",
      "2         1699125140043\n",
      "3         1699125140063\n",
      "4         1699125140083\n",
      "5         1699125140103\n",
      "              ...      \n",
      "520576    1699135551544\n",
      "520577    1699135551564\n",
      "520578    1699135551584\n",
      "520579    1699135551604\n",
      "520580    1699135551624\n",
      "Name: epoch, Length: 520531, dtype: int64\n"
     ]
    }
   ],
   "source": [
    "print(data_stream)\n",
    "print(utc_time)"
   ]
  },
  {
   "cell_type": "code",
   "execution_count": 9,
   "id": "1925fd5c",
   "metadata": {},
   "outputs": [
    {
     "name": "stdout",
     "output_type": "stream",
     "text": [
      "Wavelet Cycle Length: 520531\n"
     ]
    },
    {
     "data": {
      "image/png": "[encoded data removed]",
      "text/plain": [
       "<Figure size 1200x600 with 1 Axes>"
      ]
     },
     "metadata": {},
     "output_type": "display_data"
    }
   ],
   "source": [
    "movement = band_pass_filtering(data_stream, fs, \"bcg\")\n",
    "breathing = band_pass_filtering(data_stream, fs, \"breath\")\n",
    "breathing = remove_nonLinear_trend(breathing, 3)\n",
    "breathing = savgol_filter(breathing, 11, 3)\n",
    "w = modwt(movement, 'bior3.9', 4)\n",
    "dc = modwtmra(w, 'bior3.9')\n",
    "wavelet_cycle = dc[4]\n",
    "print(\"Wavelet Cycle Length:\", len(wavelet_cycle))\n",
    "# plot the wavelet cycle\n",
    "plt.figure(figsize=(12, 6))\n",
    "plt.plot(utc_time, wavelet_cycle, label='Wavelet Cycle', color='blue')\n",
    "plt.title('Wavelet Cycle')\n",
    "plt.xlabel('Time')\n",
    "plt.ylabel('Amplitude')\n",
    "plt.legend()\n",
    "plt.grid()\n",
    "plt.show()"
   ]
  },
  {
   "cell_type": "code",
   "execution_count": 10,
   "id": "1cfa2a3a",
   "metadata": {},
   "outputs": [],
   "source": [
    "t1, t2, window_length, window_shift = 0, 750, 750, 750\n",
    "hop_size = math.floor((window_length - 1) / 2)\n",
    "limit = int(math.floor(breathing.size / window_shift))\n",
    "beats = vitals(t1, t2, window_shift, limit, wavelet_cycle, utc_time.values, mpd=1, plot=0)  # utc_time.values in seconds \n"
   ]
  },
  {
   "cell_type": "code",
   "execution_count": 11,
   "id": "8dfc1a81",
   "metadata": {},
   "outputs": [
    {
     "name": "stdout",
     "output_type": "stream",
     "text": [
      "Minimum pulse :  64.0\n",
      "Maximum pulse :  103.0\n",
      "Average pulse :  85.0\n"
     ]
    }
   ],
   "source": [
    "print('Minimum pulse : ', np.around(np.min(beats)))\n",
    "print('Maximum pulse : ', np.around(np.max(beats)))\n",
    "print('Average pulse : ', np.around(np.mean(beats)))"
   ]
  },
  {
   "cell_type": "code",
   "execution_count": 12,
   "id": "7711042b",
   "metadata": {},
   "outputs": [
    {
     "name": "stderr",
     "output_type": "stream",
     "text": [
      "/tmp/ipykernel_32811/3140345879.py:4: FutureWarning: 'S' is deprecated and will be removed in a future version, please use 's' instead.\n",
      "  mean_hr_df = hr_sync.resample('15S').mean(numeric_only=True).dropna().reset_index()\n"
     ]
    },
    {
     "data": {
      "text/html": [
       "<div>\n",
       "<style scoped>\n",
       "    .dataframe tbody tr th:only-of-type {\n",
       "        vertical-align: middle;\n",
       "    }\n",
       "\n",
       "    .dataframe tbody tr th {\n",
       "        vertical-align: top;\n",
       "    }\n",
       "\n",
       "    .dataframe thead th {\n",
       "        text-align: right;\n",
       "    }\n",
       "</style>\n",
       "<table border=\"1\" class=\"dataframe\">\n",
       "  <thead>\n",
       "    <tr style=\"text-align: right;\">\n",
       "      <th></th>\n",
       "      <th>Window Start</th>\n",
       "      <th>Mean HR</th>\n",
       "    </tr>\n",
       "  </thead>\n",
       "  <tbody>\n",
       "    <tr>\n",
       "      <th>0</th>\n",
       "      <td>2023-11-04 19:12:15</td>\n",
       "      <td>98.687500</td>\n",
       "    </tr>\n",
       "    <tr>\n",
       "      <th>1</th>\n",
       "      <td>2023-11-04 19:12:30</td>\n",
       "      <td>98.541667</td>\n",
       "    </tr>\n",
       "    <tr>\n",
       "      <th>2</th>\n",
       "      <td>2023-11-04 19:12:45</td>\n",
       "      <td>92.956522</td>\n",
       "    </tr>\n",
       "    <tr>\n",
       "      <th>3</th>\n",
       "      <td>2023-11-04 19:13:00</td>\n",
       "      <td>92.800000</td>\n",
       "    </tr>\n",
       "    <tr>\n",
       "      <th>4</th>\n",
       "      <td>2023-11-04 19:13:15</td>\n",
       "      <td>92.826087</td>\n",
       "    </tr>\n",
       "    <tr>\n",
       "      <th>...</th>\n",
       "      <td>...</td>\n",
       "      <td>...</td>\n",
       "    </tr>\n",
       "    <tr>\n",
       "      <th>690</th>\n",
       "      <td>2023-11-04 22:04:45</td>\n",
       "      <td>58.800000</td>\n",
       "    </tr>\n",
       "    <tr>\n",
       "      <th>691</th>\n",
       "      <td>2023-11-04 22:05:00</td>\n",
       "      <td>59.333333</td>\n",
       "    </tr>\n",
       "    <tr>\n",
       "      <th>692</th>\n",
       "      <td>2023-11-04 22:05:15</td>\n",
       "      <td>59.933333</td>\n",
       "    </tr>\n",
       "    <tr>\n",
       "      <th>693</th>\n",
       "      <td>2023-11-04 22:05:30</td>\n",
       "      <td>60.066667</td>\n",
       "    </tr>\n",
       "    <tr>\n",
       "      <th>694</th>\n",
       "      <td>2023-11-04 22:05:45</td>\n",
       "      <td>59.571429</td>\n",
       "    </tr>\n",
       "  </tbody>\n",
       "</table>\n",
       "<p>695 rows × 2 columns</p>\n",
       "</div>"
      ],
      "text/plain": [
       "           Window Start    Mean HR\n",
       "0   2023-11-04 19:12:15  98.687500\n",
       "1   2023-11-04 19:12:30  98.541667\n",
       "2   2023-11-04 19:12:45  92.956522\n",
       "3   2023-11-04 19:13:00  92.800000\n",
       "4   2023-11-04 19:13:15  92.826087\n",
       "..                  ...        ...\n",
       "690 2023-11-04 22:04:45  58.800000\n",
       "691 2023-11-04 22:05:00  59.333333\n",
       "692 2023-11-04 22:05:15  59.933333\n",
       "693 2023-11-04 22:05:30  60.066667\n",
       "694 2023-11-04 22:05:45  59.571429\n",
       "\n",
       "[695 rows x 2 columns]"
      ]
     },
     "execution_count": 12,
     "metadata": {},
     "output_type": "execute_result"
    }
   ],
   "source": [
    "hr_sync.index = pd.to_datetime(hr_sync.index)\n",
    "\n",
    "# Resample into non-overlapping 10-second windows and compute mean HR\n",
    "mean_hr_df = hr_sync.resample('15S').mean(numeric_only=True).dropna().reset_index()\n",
    "\n",
    "# Select and rename columns\n",
    "mean_hr_df = mean_hr_df[['Timestamp', 'Heart Rate']].rename(\n",
    "    columns={'Timestamp': 'Window Start', 'Heart Rate': 'Mean HR'}\n",
    ")\n",
    "mean_hr_df"
   ]
  },
  {
   "cell_type": "code",
   "execution_count": 13,
   "id": "895cdae3",
   "metadata": {},
   "outputs": [
    {
     "data": {
      "text/plain": [
       "645"
      ]
     },
     "execution_count": 13,
     "metadata": {},
     "output_type": "execute_result"
    }
   ],
   "source": [
    "filtered_array = np.delete(beats, bad_windows, axis=0)\n",
    "len(filtered_array)"
   ]
  },
  {
   "cell_type": "code",
   "execution_count": 16,
   "id": "00744d2d",
   "metadata": {},
   "outputs": [
    {
     "data": {
      "text/html": [
       "<div>\n",
       "<style scoped>\n",
       "    .dataframe tbody tr th:only-of-type {\n",
       "        vertical-align: middle;\n",
       "    }\n",
       "\n",
       "    .dataframe tbody tr th {\n",
       "        vertical-align: top;\n",
       "    }\n",
       "\n",
       "    .dataframe thead th {\n",
       "        text-align: right;\n",
       "    }\n",
       "</style>\n",
       "<table border=\"1\" class=\"dataframe\">\n",
       "  <thead>\n",
       "    <tr style=\"text-align: right;\">\n",
       "      <th></th>\n",
       "      <th>Window Start</th>\n",
       "      <th>Mean HR</th>\n",
       "    </tr>\n",
       "  </thead>\n",
       "  <tbody>\n",
       "    <tr>\n",
       "      <th>0</th>\n",
       "      <td>2023-11-04 19:12:15</td>\n",
       "      <td>98.687500</td>\n",
       "    </tr>\n",
       "    <tr>\n",
       "      <th>1</th>\n",
       "      <td>2023-11-04 19:12:30</td>\n",
       "      <td>98.541667</td>\n",
       "    </tr>\n",
       "    <tr>\n",
       "      <th>2</th>\n",
       "      <td>2023-11-04 19:12:45</td>\n",
       "      <td>92.956522</td>\n",
       "    </tr>\n",
       "    <tr>\n",
       "      <th>3</th>\n",
       "      <td>2023-11-04 19:13:00</td>\n",
       "      <td>92.800000</td>\n",
       "    </tr>\n",
       "    <tr>\n",
       "      <th>4</th>\n",
       "      <td>2023-11-04 19:13:15</td>\n",
       "      <td>92.826087</td>\n",
       "    </tr>\n",
       "    <tr>\n",
       "      <th>...</th>\n",
       "      <td>...</td>\n",
       "      <td>...</td>\n",
       "    </tr>\n",
       "    <tr>\n",
       "      <th>685</th>\n",
       "      <td>2023-11-04 22:03:30</td>\n",
       "      <td>59.166667</td>\n",
       "    </tr>\n",
       "    <tr>\n",
       "      <th>686</th>\n",
       "      <td>2023-11-04 22:03:45</td>\n",
       "      <td>58.230769</td>\n",
       "    </tr>\n",
       "    <tr>\n",
       "      <th>688</th>\n",
       "      <td>2023-11-04 22:04:15</td>\n",
       "      <td>58.066667</td>\n",
       "    </tr>\n",
       "    <tr>\n",
       "      <th>692</th>\n",
       "      <td>2023-11-04 22:05:15</td>\n",
       "      <td>59.933333</td>\n",
       "    </tr>\n",
       "    <tr>\n",
       "      <th>694</th>\n",
       "      <td>2023-11-04 22:05:45</td>\n",
       "      <td>59.571429</td>\n",
       "    </tr>\n",
       "  </tbody>\n",
       "</table>\n",
       "<p>646 rows × 2 columns</p>\n",
       "</div>"
      ],
      "text/plain": [
       "           Window Start    Mean HR\n",
       "0   2023-11-04 19:12:15  98.687500\n",
       "1   2023-11-04 19:12:30  98.541667\n",
       "2   2023-11-04 19:12:45  92.956522\n",
       "3   2023-11-04 19:13:00  92.800000\n",
       "4   2023-11-04 19:13:15  92.826087\n",
       "..                  ...        ...\n",
       "685 2023-11-04 22:03:30  59.166667\n",
       "686 2023-11-04 22:03:45  58.230769\n",
       "688 2023-11-04 22:04:15  58.066667\n",
       "692 2023-11-04 22:05:15  59.933333\n",
       "694 2023-11-04 22:05:45  59.571429\n",
       "\n",
       "[646 rows x 2 columns]"
      ]
     },
     "execution_count": 16,
     "metadata": {},
     "output_type": "execute_result"
    }
   ],
   "source": [
    "# drop from beats and mean_hr_df the indices in bad windows\n",
    "existing_bad_windows = [idx for idx in bad_windows if idx in mean_hr_df.index]\n",
    "filtered_df = mean_hr_df.drop(index=existing_bad_windows)\n",
    "filtered_df"
   ]
  },
  {
   "cell_type": "code",
   "execution_count": 18,
   "id": "92f67e22",
   "metadata": {},
   "outputs": [
    {
     "name": "stdout",
     "output_type": "stream",
     "text": [
      "MAE: 10.294\n",
      "RMSE: 12.248\n",
      "MAPE: 13.83%\n"
     ]
    }
   ],
   "source": [
    "# error calculation\n",
    "y_true = filtered_df['Mean HR'].values\n",
    "y_pred = filtered_array\n",
    "min_len = min(len(y_true), len(y_pred))\n",
    "\n",
    "# Trim both to the same length from the end\n",
    "y_true = y_true[:min_len]\n",
    "y_pred = y_pred[:min_len]\n",
    "# Mean Absolute Error (MAE)\n",
    "mae = np.mean(np.abs(y_true - y_pred))\n",
    "\n",
    "# Root Mean Square Error (RMSE)\n",
    "rmse = np.sqrt(np.mean((y_true - y_pred) ** 2))\n",
    "\n",
    "# Mean Absolute Percentage Error (MAPE)\n",
    "# Add small epsilon to avoid division by zero\n",
    "epsilon = 1e-10\n",
    "mape = np.mean(np.abs((y_true - y_pred) / (y_true + epsilon))) * 100\n",
    "\n",
    "print(f\"MAE: {mae:.3f}\")\n",
    "print(f\"RMSE: {rmse:.3f}\")\n",
    "print(f\"MAPE: {mape:.2f}%\")\n"
   ]
  },
  {
   "cell_type": "code",
   "execution_count": null,
   "id": "36300e2b",
   "metadata": {},
   "outputs": [],
   "source": []
  }
 ],
 "metadata": {
  "kernelspec": {
   "display_name": "Python 3",
   "language": "python",
   "name": "python3"
  },
  "language_info": {
   "codemirror_mode": {
    "name": "ipython",
    "version": 3
   },
   "file_extension": ".py",
   "mimetype": "text/x-python",
   "name": "python",
   "nbconvert_exporter": "python",
   "pygments_lexer": "ipython3",
   "version": "3.10.12"
  }
 },
 "nbformat": 4,
 "nbformat_minor": 5
}
