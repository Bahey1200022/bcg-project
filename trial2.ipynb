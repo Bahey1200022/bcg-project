{
 "cells": [
  {
   "cell_type": "code",
   "execution_count": 1,
   "id": "6b3cd3c7",
   "metadata": {},
   "outputs": [],
   "source": [
    "# Imports\n",
    "import pandas as pd\n",
    "import matplotlib.pyplot as plt\n",
    "import numpy as np\n",
    "from scipy.signal import resample\n",
    "import pywt\n",
    "import heartpy as hp\n",
    "from scipy.signal import savgol_filter\n",
    "from scipy.signal import butter, filtfilt, resample\n",
    "from scipy import signal\n",
    "\n",
    "from detect_body_movements import detect_patterns\n",
    "from band_pass_filtering import band_pass_filtering\n",
    "from modwt_matlab_fft import modwt\n",
    "from modwt_mra_matlab_fft import modwtmra\n",
    "import math\n",
    "from remove_nonLinear_trend import remove_nonLinear_trend\n",
    "from compute_vitals import vitals\n",
    "\n",
    "%matplotlib inline"
   ]
  },
  {
   "cell_type": "code",
   "execution_count": 2,
   "id": "e665d8f3",
   "metadata": {},
   "outputs": [],
   "source": [
    "\n",
    "\n",
    "# SYNC\n",
    "def build_bcg_df(bcg_values, initial_timestamp, fs):\n",
    "    \"\"\"\n",
    "    Constructs a BCG DataFrame from raw values, initial timestamp, and sampling rate.\n",
    "    \n",
    "    Args:\n",
    "        bcg_values: List of BCG signal values (e.g., [-86, -90, -91, -86])\n",
    "        initial_timestamp: Timestamp of first sample (epoch ms or datetime string)\n",
    "        fs: Sampling frequency in Hz\n",
    "        \n",
    "    Returns:\n",
    "        pd.DataFrame with columns: ['Timestamp', 'BCG', 'Time']\n",
    "    \"\"\"\n",
    "    # Convert timestamp to datetime if it's a string\n",
    "    if isinstance(initial_timestamp, str):\n",
    "        initial_timestamp = pd.to_datetime(initial_timestamp)\n",
    "    elif isinstance(initial_timestamp, (int, float)):\n",
    "        initial_timestamp = pd.to_datetime(initial_timestamp, unit='ms')\n",
    "    \n",
    "    # Calculate time intervals\n",
    "    period = 1 / fs\n",
    "    timestamps = [initial_timestamp + pd.Timedelta(seconds=i*period) \n",
    "                 for i in range(len(bcg_values))]\n",
    "    \n",
    "    # Create DataFrame\n",
    "    df = pd.DataFrame({\n",
    "        'Timestamp': timestamps,\n",
    "        'BCG': bcg_values\n",
    "    })\n",
    "    \n",
    "    # Add human-readable time\n",
    "    df['Time'] = df['Timestamp'].dt.strftime('%H:%M:%S.%f')\n",
    "    \n",
    "    return df\n",
    "\n",
    "\n",
    "\n",
    "\n",
    "def synchronize_bcg_and_hr(df_bcg_raw, df_hr_raw):\n",
    "    \"\"\"\n",
    "    Builds and synchronizes BCG and HR DataFrames starting from the first common time.\n",
    "    \n",
    "    Args:\n",
    "        df_bcg_raw: Raw BCG DataFrame from CSV. Must contain 'BCG', 'Timestamp', and 'fs' columns.\n",
    "        df_hr_raw: Raw HR DataFrame from CSV. Must contain 'Timestamp' column in datetime-compatible format.\n",
    "    \n",
    "    Returns:\n",
    "        bcg_aligned, hr_aligned: Time-synchronized DataFrames\n",
    "    \"\"\"\n",
    "        # Parse BCG values and metadata\n",
    "    bcg_values = df_bcg_raw['BCG'].tolist()\n",
    "    initial_timestamp = pd.to_datetime(df_bcg_raw.loc[0, 'Timestamp'], unit='ms')\n",
    "    fs = float(df_bcg_raw.loc[0, 'fs'])\n",
    "\n",
    "    # Build BCG DataFrame\n",
    "    df_bcg = build_bcg_df(bcg_values, initial_timestamp, fs)\n",
    "\n",
    "    # Parse HR timestamps\n",
    "    df_hr_raw['Timestamp'] = pd.to_datetime(df_hr_raw['Timestamp'])\n",
    "\n",
    "    # Find common time range\n",
    "    start_time = max(df_bcg['Timestamp'].min(), df_hr_raw['Timestamp'].min())\n",
    "    end_time = min(df_bcg['Timestamp'].max(), df_hr_raw['Timestamp'].max())\n",
    "\n",
    "    # Trim both DataFrames to common range\n",
    "    bcg_aligned = df_bcg[(df_bcg['Timestamp'] >= start_time) & (df_bcg['Timestamp'] <= end_time)].copy()\n",
    "    hr_aligned = df_hr_raw[(df_hr_raw['Timestamp'] >= start_time) & (df_hr_raw['Timestamp'] <= end_time)].copy()\n",
    "\n",
    "    # Reset index\n",
    "    bcg_aligned.reset_index(drop=True, inplace=True)\n",
    "    hr_aligned.reset_index(drop=True, inplace=True)\n",
    "\n",
    "    return bcg_aligned, hr_aligned\n",
    "\n",
    "\n",
    "\n",
    "\n"
   ]
  },
  {
   "cell_type": "code",
   "execution_count": 3,
   "id": "e2c53a5b",
   "metadata": {},
   "outputs": [
    {
     "name": "stdout",
     "output_type": "stream",
     "text": [
      "Time synchronized BCG DataFrame:\n",
      "                      Timestamp  BCG             Time\n",
      "0 2023-11-04 19:12:20.003285714  -60  19:12:20.003285\n",
      "1 2023-11-04 19:12:20.010428571  -65  19:12:20.010428\n",
      "2 2023-11-04 19:12:20.017571428 -101  19:12:20.017571\n",
      "3 2023-11-04 19:12:20.024714285  -59  19:12:20.024714\n",
      "4 2023-11-04 19:12:20.031857142  -15  19:12:20.031857\n",
      "\n",
      "Time synchronized Heart Rate DataFrame:\n",
      "            Timestamp  Heart Rate  RR Interval in seconds\n",
      "0 2023-11-04 19:12:20          99                   0.613\n",
      "1 2023-11-04 19:12:20          99                   0.621\n",
      "2 2023-11-04 19:12:21          98                   0.626\n",
      "3 2023-11-04 19:12:22          98                   0.632\n",
      "4 2023-11-04 19:12:22          98                   0.635\n"
     ]
    }
   ],
   "source": [
    "\n",
    "#read csv files\n",
    "df_bcg= pd.read_csv('/home/bahey/bio_data/dataset/data/01/BCG/01_20231105_BCG.csv')        #### n4 &\n",
    "df_heart=pd.read_csv(\"/home/bahey/bio_data/dataset/data/01/Reference/RR/01_20231105_RR.csv\")   #### 1 second one\n",
    "\n",
    "# step 1 :Synchronize BCG and HR DataFrames from the first common time\n",
    "bcg_sync, hr_sync = synchronize_bcg_and_hr(df_bcg, df_heart)\n",
    "\n",
    "print(\"Time synchronized BCG DataFrame:\")\n",
    "print(bcg_sync.head())\n",
    "print(\"\\nTime synchronized Heart Rate DataFrame:\")\n",
    "print(hr_sync.head())\n"
   ]
  },
  {
   "cell_type": "code",
   "execution_count": null,
   "id": "d61639da",
   "metadata": {},
   "outputs": [
    {
     "name": "stderr",
     "output_type": "stream",
     "text": [
      "/tmp/ipykernel_4546/3738532375.py:9: FutureWarning: 'S' is deprecated and will be removed in a future version, please use 's' instead.\n",
      "  windowed_df = hr_sync.resample('10S').mean()\n"
     ]
    },
    {
     "name": "stdout",
     "output_type": "stream",
     "text": [
      "                     Heart Rate\n",
      "Timestamp                      \n",
      "2023-11-04 19:12:20   98.687500\n",
      "2023-11-04 19:12:30  100.625000\n",
      "2023-11-04 19:12:40   94.066667\n",
      "2023-11-04 19:12:50   92.625000\n",
      "2023-11-04 19:13:00   92.000000\n",
      "...                         ...\n",
      "2023-11-04 22:05:10   59.300000\n",
      "2023-11-04 22:05:20   60.300000\n",
      "2023-11-04 22:05:30   60.100000\n",
      "2023-11-04 22:05:40   59.800000\n",
      "2023-11-04 22:05:50   59.500000\n",
      "\n",
      "[1042 rows x 1 columns]\n"
     ]
    }
   ],
   "source": [
    "###  the heart rate windowing take 10 seconds\n",
    "\n",
    "hr_sync['Timestamp'] = pd.to_datetime(hr_sync['Timestamp'])\n",
    "\n",
    "# Set Timestamp as the index\n",
    "hr_sync.set_index('Timestamp', inplace=True)\n",
    "\n",
    "# Group by non-overlapping 10-second windows and calculate the mean of 'Heart Rate'\n",
    "windowed_df = hr_sync.resample('10S').mean()\n",
    "\n",
    "# Print the result\n",
    "print(windowed_df[['Heart Rate']])\n"
   ]
  },
  {
   "cell_type": "code",
   "execution_count": 8,
   "id": "6a20bef9",
   "metadata": {},
   "outputs": [
    {
     "name": "stdout",
     "output_type": "stream",
     "text": [
      "                      Timestamp         BCG             Time\n",
      "0 2023-11-04 19:12:20.003285714  -62.199690  19:12:20.003285\n",
      "1 2023-11-04 19:12:20.023285755  -51.919848  19:12:20.023285\n",
      "2 2023-11-04 19:12:20.043285796 -125.002844  19:12:20.043285\n",
      "3 2023-11-04 19:12:20.063285837 -811.109988  19:12:20.063285\n",
      "4 2023-11-04 19:12:20.083285878 -414.326722  19:12:20.083285\n"
     ]
    }
   ],
   "source": [
    "# resample bcg to 50 hz \n",
    "bcg_sync.set_index('Timestamp', inplace=True)\n",
    "\n",
    "# Original sampling rate (140 Hz)\n",
    "fs_original = 140  \n",
    "# Target sampling rate (50 Hz)\n",
    "fs_target = 50  \n",
    "\n",
    "# Calculate resampling factor\n",
    "resample_factor = fs_target / fs_original\n",
    "\n",
    "# Number of samples in resampled signal\n",
    "num_samples = int(len(bcg_sync) * resample_factor)\n",
    "\n",
    "# Resample the BCG signal using Fourier method (preserves timing information)\n",
    "resampled_bcg = signal.resample(bcg_sync['BCG'], num_samples)\n",
    "\n",
    "# Create new timestamps for the resampled data\n",
    "start_time = bcg_sync.index[0]\n",
    "end_time = bcg_sync.index[-1]\n",
    "new_timestamps = pd.date_range(start=start_time, end=end_time, periods=num_samples)\n",
    "\n",
    "# Create new DataFrame with resampled data\n",
    "resampled_df = pd.DataFrame({\n",
    "    'BCG': resampled_bcg,\n",
    "    'Time': new_timestamps.time\n",
    "}, index=new_timestamps)\n",
    "\n",
    "# Reset index if you want Timestamp as a column again\n",
    "resampled_df.reset_index(inplace=True)\n",
    "resampled_df.rename(columns={'index': 'Timestamp'}, inplace=True)\n",
    "\n",
    "print(resampled_df.head())"
   ]
  },
  {
   "cell_type": "code",
   "execution_count": null,
   "id": "0cc1aa65",
   "metadata": {},
   "outputs": [
    {
     "name": "stderr",
     "output_type": "stream",
     "text": [
      "/tmp/ipykernel_4546/1326145423.py:4: FutureWarning: Series.view is deprecated and will be removed in a future version. Use ``astype`` as an alternative to change the dtype.\n",
      "  bcg['epoch'] = bcg['Timestamp'].view('int64') // 10**9\n"
     ]
    },
    {
     "name": "stdout",
     "output_type": "stream",
     "text": [
      "0         1699125140\n",
      "1         1699125140\n",
      "2         1699125140\n",
      "3         1699125140\n",
      "4         1699125140\n",
      "             ...    \n",
      "520576    1699135551\n",
      "520577    1699135551\n",
      "520578    1699135551\n",
      "520579    1699135551\n",
      "520580    1699135551\n",
      "Name: epoch, Length: 520581, dtype: int64\n",
      "0         -62.199690\n",
      "1         -51.919848\n",
      "2        -125.002844\n",
      "3        -811.109988\n",
      "4        -414.326722\n",
      "             ...    \n",
      "520576    -25.777328\n",
      "520577    -31.191030\n",
      "520578    -28.447707\n",
      "520579    -34.915308\n",
      "520580    -25.351139\n",
      "Name: BCG, Length: 520581, dtype: float64\n",
      "[-32.22768216 -32.81422654 -33.12324449 ... -29.02594257 -30.30733276\n",
      " -31.38388896]\n"
     ]
    },
    {
     "ename": "TypeError",
     "evalue": "object of type 'numpy.float64' has no len()",
     "output_type": "error",
     "traceback": [
      "\u001b[0;31m---------------------------------------------------------------------------\u001b[0m",
      "\u001b[0;31mTypeError\u001b[0m                                 Traceback (most recent call last)",
      "Cell \u001b[0;32mIn[18], line 21\u001b[0m\n\u001b[1;32m     19\u001b[0m hop_size \u001b[38;5;241m=\u001b[39m math\u001b[38;5;241m.\u001b[39mfloor((window_length \u001b[38;5;241m-\u001b[39m \u001b[38;5;241m1\u001b[39m) \u001b[38;5;241m/\u001b[39m \u001b[38;5;241m2\u001b[39m)\n\u001b[1;32m     20\u001b[0m limit \u001b[38;5;241m=\u001b[39m \u001b[38;5;28mint\u001b[39m(math\u001b[38;5;241m.\u001b[39mfloor(breathing\u001b[38;5;241m.\u001b[39msize \u001b[38;5;241m/\u001b[39m window_shift))\n\u001b[0;32m---> 21\u001b[0m beats \u001b[38;5;241m=\u001b[39m \u001b[43mvitals\u001b[49m\u001b[43m(\u001b[49m\u001b[43mt1\u001b[49m\u001b[43m,\u001b[49m\u001b[43m \u001b[49m\u001b[43mt2\u001b[49m\u001b[43m,\u001b[49m\u001b[43m \u001b[49m\u001b[43mwindow_shift\u001b[49m\u001b[43m,\u001b[49m\u001b[43m \u001b[49m\u001b[43mlimit\u001b[49m\u001b[43m,\u001b[49m\u001b[43m \u001b[49m\u001b[43mwavelet_cycle\u001b[49m\u001b[43m,\u001b[49m\u001b[43m \u001b[49m\u001b[43mutc_time\u001b[49m\u001b[43m,\u001b[49m\u001b[43m \u001b[49m\u001b[43mmpd\u001b[49m\u001b[38;5;241;43m=\u001b[39;49m\u001b[38;5;241;43m1\u001b[39;49m\u001b[43m,\u001b[49m\u001b[43m \u001b[49m\u001b[43mplot\u001b[49m\u001b[38;5;241;43m=\u001b[39;49m\u001b[38;5;241;43m0\u001b[39;49m\u001b[43m)\u001b[49m\n\u001b[1;32m     23\u001b[0m \u001b[38;5;28mprint\u001b[39m(\u001b[38;5;124m\"\u001b[39m\u001b[38;5;124mehhhhhhh\u001b[39m\u001b[38;5;124m\"\u001b[39m)\n\u001b[1;32m     24\u001b[0m \u001b[38;5;28mprint\u001b[39m(beats)\n",
      "File \u001b[0;32m~/bio_data/compute_vitals.py:18\u001b[0m, in \u001b[0;36mvitals\u001b[0;34m(t1, t2, win_size, window_limit, sig, time, mpd, plot)\u001b[0m\n\u001b[1;32m     15\u001b[0m rate, indices \u001b[38;5;241m=\u001b[39m compute_rate(sub_signal, time, mpd)\n\u001b[1;32m     17\u001b[0m \u001b[38;5;66;03m# Only append if rate is valid (not None and not empty)\u001b[39;00m\n\u001b[0;32m---> 18\u001b[0m \u001b[38;5;28;01mif\u001b[39;00m rate \u001b[38;5;129;01mis\u001b[39;00m \u001b[38;5;129;01mnot\u001b[39;00m \u001b[38;5;28;01mNone\u001b[39;00m \u001b[38;5;129;01mand\u001b[39;00m \u001b[38;5;28;43mlen\u001b[39;49m\u001b[43m(\u001b[49m\u001b[43mrate\u001b[49m\u001b[43m)\u001b[49m \u001b[38;5;241m>\u001b[39m \u001b[38;5;241m0\u001b[39m:\n\u001b[1;32m     19\u001b[0m     all_rate\u001b[38;5;241m.\u001b[39mappend(rate)\n\u001b[1;32m     21\u001b[0m t1 \u001b[38;5;241m=\u001b[39m t2\n",
      "\u001b[0;31mTypeError\u001b[0m: object of type 'numpy.float64' has no len()"
     ]
    },
    {
     "data": {
      "image/png": "[encoded data removed]",
      "text/plain": [
       "<Figure size 640x480 with 1 Axes>"
      ]
     },
     "metadata": {},
     "output_type": "display_data"
    }
   ],
   "source": [
    "# bcg= windows[1040]\n",
    "bcg = resampled_df\n",
    "start_point, end_point, window_shift, fs = 0, 500, 500, 50\n",
    "bcg['epoch'] = bcg['Timestamp'].view('int64') // 10**9\n",
    "utc_time = bcg['epoch']\n",
    "data_stream = bcg['BCG']\n",
    "print(utc_time)\n",
    "print(data_stream)\n",
    "data_stream, utc_time = detect_patterns(start_point, end_point, window_shift, data_stream, utc_time, plot=1)\n",
    "\n",
    "\n",
    "\n"
   ]
  },
  {
   "cell_type": "code",
   "execution_count": null,
   "id": "1925fd5c",
   "metadata": {},
   "outputs": [],
   "source": [
    "movement = band_pass_filtering(data_stream, fs, \"bcg\")\n",
    "breathing = band_pass_filtering(data_stream, fs, \"breath\")\n",
    "breathing = remove_nonLinear_trend(breathing, 3)\n",
    "breathing = savgol_filter(breathing, 11, 3)\n",
    "w = modwt(movement, 'bior3.9', 4)\n",
    "dc = modwtmra(w, 'bior3.9')\n",
    "wavelet_cycle = dc[4]\n",
    "print(wavelet_cycle)\n",
    "t1, t2, window_length, window_shift = 0, 500, 500, 500\n",
    "hop_size = math.floor((window_length - 1) / 2)\n",
    "limit = int(math.floor(breathing.size / window_shift))\n",
    "beats = vitals(t1, t2, window_shift, limit, wavelet_cycle, utc_time, mpd=1, plot=0)\n"
   ]
  }
 ],
 "metadata": {
  "kernelspec": {
   "display_name": "Python 3",
   "language": "python",
   "name": "python3"
  },
  "language_info": {
   "codemirror_mode": {
    "name": "ipython",
    "version": 3
   },
   "file_extension": ".py",
   "mimetype": "text/x-python",
   "name": "python",
   "nbconvert_exporter": "python",
   "pygments_lexer": "ipython3",
   "version": "3.10.12"
  }
 },
 "nbformat": 4,
 "nbformat_minor": 5
}
