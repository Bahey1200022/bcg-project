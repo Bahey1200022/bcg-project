{
 "cells": [
  {
   "cell_type": "code",
   "execution_count": 2,
   "id": "78ec9044",
   "metadata": {},
   "outputs": [],
   "source": [
    "# Imports\n",
    "import pandas as pd\n",
    "import matplotlib.pyplot as plt\n",
    "import numpy as np\n",
    "from scipy.signal import resample\n",
    "import pywt\n",
    "import heartpy as hp\n",
    "from scipy.signal import savgol_filter\n",
    "from scipy.signal import butter, filtfilt, resample\n",
    "from scipy import signal\n",
    "from data_subplot import data_subplot\n",
    "\n",
    "from detect_body_movements import detect_patterns\n",
    "from band_pass_filtering import band_pass_filtering\n",
    "from modwt_matlab_fft import modwt\n",
    "from modwt_mra_matlab_fft import modwtmra\n",
    "import math\n",
    "from remove_nonLinear_trend import remove_nonLinear_trend\n",
    "from compute_vitals import vitals\n",
    "\n",
    "%matplotlib inline"
   ]
  },
  {
   "cell_type": "code",
   "execution_count": 3,
   "id": "fa59601e",
   "metadata": {},
   "outputs": [],
   "source": [
    "\n",
    "\n",
    "# SYNC\n",
    "def build_bcg_df(bcg_values, initial_timestamp, fs):\n",
    "    \"\"\"\n",
    "    Constructs a BCG DataFrame from raw values, initial timestamp, and sampling rate.\n",
    "    \n",
    "    Args:\n",
    "        bcg_values: List of BCG signal values (e.g., [-86, -90, -91, -86])\n",
    "        initial_timestamp: Timestamp of first sample (epoch ms or datetime string)\n",
    "        fs: Sampling frequency in Hz\n",
    "        \n",
    "    Returns:\n",
    "        pd.DataFrame with columns: ['Timestamp', 'BCG', 'Time']\n",
    "    \"\"\"\n",
    "    # Convert timestamp to datetime if it's a string\n",
    "    if isinstance(initial_timestamp, str):\n",
    "        initial_timestamp = pd.to_datetime(initial_timestamp)\n",
    "    elif isinstance(initial_timestamp, (int, float)):\n",
    "        initial_timestamp = pd.to_datetime(initial_timestamp, unit='ms')\n",
    "    \n",
    "    # Calculate time intervals\n",
    "    period = 1 / fs\n",
    "    timestamps = [initial_timestamp + pd.Timedelta(seconds=i*period) \n",
    "                 for i in range(len(bcg_values))]\n",
    "    \n",
    "    # Create DataFrame\n",
    "    df = pd.DataFrame({\n",
    "        'Timestamp': timestamps,\n",
    "        'BCG': bcg_values\n",
    "    })\n",
    "    \n",
    "    # Add human-readable time\n",
    "    df['Time'] = df['Timestamp'].dt.strftime('%H:%M:%S.%f')\n",
    "    \n",
    "    return df\n",
    "\n",
    "\n",
    "\n",
    "\n",
    "def synchronize_bcg_and_hr(df_bcg_raw, df_hr_raw):\n",
    "    \"\"\"\n",
    "    Builds and synchronizes BCG and HR DataFrames starting from the first common time.\n",
    "    \n",
    "    Args:\n",
    "        df_bcg_raw: Raw BCG DataFrame from CSV. Must contain 'BCG', 'Timestamp', and 'fs' columns.\n",
    "        df_hr_raw: Raw HR DataFrame from CSV. Must contain 'Timestamp' column in datetime-compatible format.\n",
    "    \n",
    "    Returns:\n",
    "        bcg_aligned, hr_aligned: Time-synchronized DataFrames\n",
    "    \"\"\"\n",
    "        # Parse BCG values and metadata\n",
    "    bcg_values = df_bcg_raw['BCG'].tolist()\n",
    "    initial_timestamp = pd.to_datetime(df_bcg_raw.loc[0, 'Timestamp'], unit='ms')\n",
    "    fs = float(df_bcg_raw.loc[0, 'fs'])\n",
    "\n",
    "    # Build BCG DataFrame\n",
    "    df_bcg = build_bcg_df(bcg_values, initial_timestamp, fs)\n",
    "\n",
    "    # Parse HR timestamps\n",
    "    df_hr_raw['Timestamp'] = pd.to_datetime(df_hr_raw['Timestamp'])\n",
    "\n",
    "    # Find common time range\n",
    "    start_time = max(df_bcg['Timestamp'].min(), df_hr_raw['Timestamp'].min())\n",
    "    end_time = min(df_bcg['Timestamp'].max(), df_hr_raw['Timestamp'].max())\n",
    "\n",
    "    # Trim both DataFrames to common range\n",
    "    bcg_aligned = df_bcg[(df_bcg['Timestamp'] >= start_time) & (df_bcg['Timestamp'] <= end_time)].copy()\n",
    "    hr_aligned = df_hr_raw[(df_hr_raw['Timestamp'] >= start_time) & (df_hr_raw['Timestamp'] <= end_time)].copy()\n",
    "\n",
    "    # Reset index\n",
    "    bcg_aligned.reset_index(drop=True, inplace=True)\n",
    "    hr_aligned.reset_index(drop=True, inplace=True)\n",
    "\n",
    "    return bcg_aligned, hr_aligned\n",
    "\n",
    "\n",
    "\n",
    "\n"
   ]
  },
  {
   "cell_type": "code",
   "execution_count": 4,
   "id": "95ed28cb",
   "metadata": {},
   "outputs": [
    {
     "name": "stdout",
     "output_type": "stream",
     "text": [
      "Time synchronized BCG DataFrame:\n",
      "                      Timestamp  BCG             Time\n",
      "0 2023-11-04 19:12:20.003285714  -60  19:12:20.003285\n",
      "1 2023-11-04 19:12:20.010428571  -65  19:12:20.010428\n",
      "2 2023-11-04 19:12:20.017571428 -101  19:12:20.017571\n",
      "3 2023-11-04 19:12:20.024714285  -59  19:12:20.024714\n",
      "4 2023-11-04 19:12:20.031857142  -15  19:12:20.031857\n",
      "\n",
      "Time synchronized Heart Rate DataFrame:\n",
      "            Timestamp  Heart Rate  RR Interval in seconds\n",
      "0 2023-11-04 19:12:20          99                   0.613\n",
      "1 2023-11-04 19:12:20          99                   0.621\n",
      "2 2023-11-04 19:12:21          98                   0.626\n",
      "3 2023-11-04 19:12:22          98                   0.632\n",
      "4 2023-11-04 19:12:22          98                   0.635\n"
     ]
    }
   ],
   "source": [
    "\n",
    "#read csv files\n",
    "df_bcg= pd.read_csv('/home/bahey/bio_data/dataset/data/01/BCG/01_20231105_BCG.csv')        #### n4 &\n",
    "df_heart=pd.read_csv(\"/home/bahey/bio_data/dataset/data/01/Reference/RR/01_20231105_RR.csv\")   #### 1 second one\n",
    "\n",
    "# step 1 :Synchronize BCG and HR DataFrames from the first common time\n",
    "bcg_sync, hr_sync = synchronize_bcg_and_hr(df_bcg, df_heart)\n",
    "\n",
    "print(\"Time synchronized BCG DataFrame:\")\n",
    "print(bcg_sync.head())\n",
    "print(\"\\nTime synchronized Heart Rate DataFrame:\")\n",
    "print(hr_sync.head())\n"
   ]
  },
  {
   "cell_type": "code",
   "execution_count": 5,
   "id": "d2f2e565",
   "metadata": {},
   "outputs": [
    {
     "name": "stdout",
     "output_type": "stream",
     "text": [
      "                        HR_mean  HR_count\n",
      "Timestamp                                \n",
      "2023-11-04 19:12:20   98.687500        16\n",
      "2023-11-04 19:12:30  100.625000        16\n",
      "2023-11-04 19:12:40   94.066667        15\n",
      "2023-11-04 19:12:50   92.625000        16\n",
      "2023-11-04 19:13:00   92.000000        12\n",
      "...                         ...       ...\n",
      "2023-11-04 22:05:10   59.300000        10\n",
      "2023-11-04 22:05:20   60.300000        10\n",
      "2023-11-04 22:05:30   60.100000        10\n",
      "2023-11-04 22:05:40   59.800000        10\n",
      "2023-11-04 22:05:50   59.500000         2\n",
      "\n",
      "[1042 rows x 2 columns]\n"
     ]
    },
    {
     "name": "stderr",
     "output_type": "stream",
     "text": [
      "/tmp/ipykernel_31248/2681601418.py:7: FutureWarning: 'S' is deprecated and will be removed in a future version, please use 's' instead.\n",
      "  windowed_df = hr_sync.resample('10S').agg({\n"
     ]
    }
   ],
   "source": [
    "hr_sync['Timestamp'] = pd.to_datetime(hr_sync['Timestamp'])\n",
    "\n",
    "# Set Timestamp as the index\n",
    "hr_sync.set_index('Timestamp', inplace=True)\n",
    "\n",
    "# Group by 10-second windows and compute both mean and count\n",
    "windowed_df = hr_sync.resample('10S').agg({\n",
    "    'Heart Rate': ['mean', 'count']\n",
    "})\n",
    "\n",
    "# Optional: flatten MultiIndex columns\n",
    "windowed_df.columns = ['HR_mean', 'HR_count']\n",
    "\n",
    "# Print the result\n",
    "print(windowed_df)\n"
   ]
  },
  {
   "cell_type": "code",
   "execution_count": 6,
   "id": "3ef083a0",
   "metadata": {},
   "outputs": [
    {
     "name": "stdout",
     "output_type": "stream",
     "text": [
      "                      Timestamp         BCG             Time\n",
      "0 2023-11-04 19:12:20.003285714  -62.199690  19:12:20.003285\n",
      "1 2023-11-04 19:12:20.023285755  -51.919848  19:12:20.023285\n",
      "2 2023-11-04 19:12:20.043285796 -125.002844  19:12:20.043285\n",
      "3 2023-11-04 19:12:20.063285837 -811.109988  19:12:20.063285\n",
      "4 2023-11-04 19:12:20.083285878 -414.326722  19:12:20.083285\n"
     ]
    }
   ],
   "source": [
    "# resample bcg to 50 hz \n",
    "bcg_sync.set_index('Timestamp', inplace=True)\n",
    "\n",
    "# Original sampling rate (140 Hz)\n",
    "fs_original = 140  \n",
    "# Target sampling rate (50 Hz)\n",
    "fs_target = 50  \n",
    "\n",
    "# Calculate resampling factor\n",
    "resample_factor = fs_target / fs_original\n",
    "\n",
    "# Number of samples in resampled signal\n",
    "num_samples = int(len(bcg_sync) * resample_factor)\n",
    "\n",
    "# Resample the BCG signal using Fourier method (preserves timing information)\n",
    "resampled_bcg = signal.resample(bcg_sync['BCG'], num_samples)\n",
    "\n",
    "# Create new timestamps for the resampled data\n",
    "start_time = bcg_sync.index[0]\n",
    "end_time = bcg_sync.index[-1]\n",
    "new_timestamps = pd.date_range(start=start_time, end=end_time, periods=num_samples)\n",
    "\n",
    "# Create new DataFrame with resampled data\n",
    "resampled_df = pd.DataFrame({\n",
    "    'BCG': resampled_bcg,\n",
    "    'Time': new_timestamps.time\n",
    "}, index=new_timestamps)\n",
    "\n",
    "# Reset index if you want Timestamp as a column again\n",
    "resampled_df.reset_index(inplace=True)\n",
    "resampled_df.rename(columns={'index': 'Timestamp'}, inplace=True)\n",
    "\n",
    "print(resampled_df.head())"
   ]
  },
  {
   "cell_type": "code",
   "execution_count": 7,
   "id": "75904e80",
   "metadata": {},
   "outputs": [
    {
     "name": "stdout",
     "output_type": "stream",
     "text": [
      "1041\n"
     ]
    }
   ],
   "source": [
    "total =len(resampled_df)/500\n",
    "total = int(total)\n",
    "print(total)"
   ]
  },
  {
   "cell_type": "code",
   "execution_count": 8,
   "id": "94981ff4",
   "metadata": {},
   "outputs": [
    {
     "name": "stdout",
     "output_type": "stream",
     "text": [
      "Data stream length: 520581\n"
     ]
    },
    {
     "name": "stderr",
     "output_type": "stream",
     "text": [
      "/tmp/ipykernel_31248/598734467.py:3: FutureWarning: Series.view is deprecated and will be removed in a future version. Use ``astype`` as an alternative to change the dtype.\n",
      "  bcg['epoch'] = bcg['Timestamp'].view('int64') // 10**6 # convert to milliseconds\n"
     ]
    },
    {
     "name": "stdout",
     "output_type": "stream",
     "text": [
      "Bad windows: [  67   68  136  137  142  143  144  223  225  227  228  281  282  283\n",
      "  303  306  307  344  417  442  443  452  453  454  547  548  549  555\n",
      "  563  599  600  632  743  823  828  830  831  832  925  931  939  941\n",
      "  945  946  950  958  959  960  962  966  973  974  975  979  993 1011\n",
      " 1015 1021 1022 1024 1028 1030 1034 1035 1036 1037 1039 1040]\n"
     ]
    },
    {
     "data": {
      "image/png": "[encoded data removed]",
      "text/plain": [
       "<Figure size 640x480 with 1 Axes>"
      ]
     },
     "metadata": {},
     "output_type": "display_data"
    }
   ],
   "source": [
    "bcg = resampled_df\n",
    "start_point, end_point, window_shift, fs = 0, 500, 500, 50\n",
    "bcg['epoch'] = bcg['Timestamp'].view('int64') // 10**6 # convert to milliseconds\n",
    "utc_time = bcg['epoch']\n",
    "data_stream = bcg['BCG']\n",
    "print(\"Data stream length:\", len(data_stream))\n",
    "data_stream, utc_time, bad_windows  = detect_patterns(start_point, end_point, window_shift, data_stream, utc_time, plot=1)\n",
    "print(\"Bad windows:\", bad_windows)"
   ]
  },
  {
   "cell_type": "code",
   "execution_count": 9,
   "id": "cad54a99",
   "metadata": {},
   "outputs": [
    {
     "name": "stdout",
     "output_type": "stream",
     "text": [
      "Wavelet Cycle Length: 520512\n"
     ]
    },
    {
     "data": {
      "image/png": "[encoded data removed]",
      "text/plain": [
       "<Figure size 1200x600 with 1 Axes>"
      ]
     },
     "metadata": {},
     "output_type": "display_data"
    }
   ],
   "source": [
    "movement = band_pass_filtering(data_stream, fs, \"bcg\")\n",
    "breathing = band_pass_filtering(data_stream, fs, \"breath\")\n",
    "breathing = remove_nonLinear_trend(breathing, 3)\n",
    "breathing = savgol_filter(breathing, 11, 3)\n",
    "w = modwt(movement, 'bior3.9', 4)\n",
    "dc = modwtmra(w, 'bior3.9')\n",
    "wavelet_cycle = dc[4]\n",
    "print(\"Wavelet Cycle Length:\", len(wavelet_cycle))\n",
    "# plot the wavelet cycle\n",
    "plt.figure(figsize=(12, 6))\n",
    "plt.plot(utc_time, wavelet_cycle, label='Wavelet Cycle', color='blue')\n",
    "plt.title('Wavelet Cycle')\n",
    "plt.xlabel('Time')\n",
    "plt.ylabel('Amplitude')\n",
    "plt.legend()\n",
    "plt.grid()\n",
    "plt.show()"
   ]
  },
  {
   "cell_type": "code",
   "execution_count": 10,
   "id": "c5b57d72",
   "metadata": {},
   "outputs": [],
   "source": [
    "t1, t2, window_length, window_shift = 0, 500, 500, 500\n",
    "hop_size = math.floor((window_length - 1) / 2)\n",
    "limit = int(math.floor(breathing.size / window_shift))\n",
    "beats = vitals(t1, t2, window_shift, limit, wavelet_cycle, utc_time.values, mpd=1, plot=0)  # utc_time.values in seconds \n"
   ]
  },
  {
   "cell_type": "code",
   "execution_count": 11,
   "id": "9b52a4b1",
   "metadata": {},
   "outputs": [
    {
     "name": "stdout",
     "output_type": "stream",
     "text": [
      "Minimum pulse :  64.0\n",
      "Maximum pulse :  106.0\n",
      "Average pulse :  85.0\n",
      "length of pulse :  1041\n"
     ]
    }
   ],
   "source": [
    "print('Minimum pulse : ', np.around(np.min(beats)))\n",
    "print('Maximum pulse : ', np.around(np.max(beats)))\n",
    "print('Average pulse : ', np.around(np.mean(beats)))\n",
    "print('length of pulse : ', int(len(beats)))"
   ]
  },
  {
   "cell_type": "code",
   "execution_count": 12,
   "id": "c84e7d6f",
   "metadata": {},
   "outputs": [
    {
     "data": {
      "text/plain": [
       "DatetimeIndex(['2023-11-04 19:12:20', '2023-11-04 19:12:20',\n",
       "               '2023-11-04 19:12:21', '2023-11-04 19:12:22',\n",
       "               '2023-11-04 19:12:22', '2023-11-04 19:12:23',\n",
       "               '2023-11-04 19:12:24', '2023-11-04 19:12:25',\n",
       "               '2023-11-04 19:12:25', '2023-11-04 19:12:26',\n",
       "               ...\n",
       "               '2023-11-04 22:05:42', '2023-11-04 22:05:43',\n",
       "               '2023-11-04 22:05:44', '2023-11-04 22:05:45',\n",
       "               '2023-11-04 22:05:46', '2023-11-04 22:05:47',\n",
       "               '2023-11-04 22:05:48', '2023-11-04 22:05:49',\n",
       "               '2023-11-04 22:05:50', '2023-11-04 22:05:51'],\n",
       "              dtype='datetime64[ns]', name='Timestamp', length=12617, freq=None)"
      ]
     },
     "execution_count": 12,
     "metadata": {},
     "output_type": "execute_result"
    }
   ],
   "source": [
    "hr_sync.index "
   ]
  },
  {
   "cell_type": "code",
   "execution_count": 13,
   "id": "7de7c1ee",
   "metadata": {},
   "outputs": [
    {
     "name": "stderr",
     "output_type": "stream",
     "text": [
      "/tmp/ipykernel_31248/3326357812.py:4: FutureWarning: 'S' is deprecated and will be removed in a future version, please use 's' instead.\n",
      "  mean_hr_df = hr_sync.resample('10S').mean(numeric_only=True).dropna().reset_index()\n"
     ]
    },
    {
     "data": {
      "text/html": [
       "<div>\n",
       "<style scoped>\n",
       "    .dataframe tbody tr th:only-of-type {\n",
       "        vertical-align: middle;\n",
       "    }\n",
       "\n",
       "    .dataframe tbody tr th {\n",
       "        vertical-align: top;\n",
       "    }\n",
       "\n",
       "    .dataframe thead th {\n",
       "        text-align: right;\n",
       "    }\n",
       "</style>\n",
       "<table border=\"1\" class=\"dataframe\">\n",
       "  <thead>\n",
       "    <tr style=\"text-align: right;\">\n",
       "      <th></th>\n",
       "      <th>Window Start</th>\n",
       "      <th>Mean HR</th>\n",
       "    </tr>\n",
       "  </thead>\n",
       "  <tbody>\n",
       "    <tr>\n",
       "      <th>0</th>\n",
       "      <td>2023-11-04 19:12:20</td>\n",
       "      <td>98.687500</td>\n",
       "    </tr>\n",
       "    <tr>\n",
       "      <th>1</th>\n",
       "      <td>2023-11-04 19:12:30</td>\n",
       "      <td>100.625000</td>\n",
       "    </tr>\n",
       "    <tr>\n",
       "      <th>2</th>\n",
       "      <td>2023-11-04 19:12:40</td>\n",
       "      <td>94.066667</td>\n",
       "    </tr>\n",
       "    <tr>\n",
       "      <th>3</th>\n",
       "      <td>2023-11-04 19:12:50</td>\n",
       "      <td>92.625000</td>\n",
       "    </tr>\n",
       "    <tr>\n",
       "      <th>4</th>\n",
       "      <td>2023-11-04 19:13:00</td>\n",
       "      <td>92.000000</td>\n",
       "    </tr>\n",
       "    <tr>\n",
       "      <th>...</th>\n",
       "      <td>...</td>\n",
       "      <td>...</td>\n",
       "    </tr>\n",
       "    <tr>\n",
       "      <th>1035</th>\n",
       "      <td>2023-11-04 22:05:10</td>\n",
       "      <td>59.300000</td>\n",
       "    </tr>\n",
       "    <tr>\n",
       "      <th>1036</th>\n",
       "      <td>2023-11-04 22:05:20</td>\n",
       "      <td>60.300000</td>\n",
       "    </tr>\n",
       "    <tr>\n",
       "      <th>1037</th>\n",
       "      <td>2023-11-04 22:05:30</td>\n",
       "      <td>60.100000</td>\n",
       "    </tr>\n",
       "    <tr>\n",
       "      <th>1038</th>\n",
       "      <td>2023-11-04 22:05:40</td>\n",
       "      <td>59.800000</td>\n",
       "    </tr>\n",
       "    <tr>\n",
       "      <th>1039</th>\n",
       "      <td>2023-11-04 22:05:50</td>\n",
       "      <td>59.500000</td>\n",
       "    </tr>\n",
       "  </tbody>\n",
       "</table>\n",
       "<p>1040 rows × 2 columns</p>\n",
       "</div>"
      ],
      "text/plain": [
       "            Window Start     Mean HR\n",
       "0    2023-11-04 19:12:20   98.687500\n",
       "1    2023-11-04 19:12:30  100.625000\n",
       "2    2023-11-04 19:12:40   94.066667\n",
       "3    2023-11-04 19:12:50   92.625000\n",
       "4    2023-11-04 19:13:00   92.000000\n",
       "...                  ...         ...\n",
       "1035 2023-11-04 22:05:10   59.300000\n",
       "1036 2023-11-04 22:05:20   60.300000\n",
       "1037 2023-11-04 22:05:30   60.100000\n",
       "1038 2023-11-04 22:05:40   59.800000\n",
       "1039 2023-11-04 22:05:50   59.500000\n",
       "\n",
       "[1040 rows x 2 columns]"
      ]
     },
     "execution_count": 13,
     "metadata": {},
     "output_type": "execute_result"
    }
   ],
   "source": [
    "hr_sync.index = pd.to_datetime(hr_sync.index)\n",
    "\n",
    "# Resample into non-overlapping 10-second windows and compute mean HR\n",
    "mean_hr_df = hr_sync.resample('10S').mean(numeric_only=True).dropna().reset_index()\n",
    "\n",
    "# Select and rename columns\n",
    "mean_hr_df = mean_hr_df[['Timestamp', 'Heart Rate']].rename(\n",
    "    columns={'Timestamp': 'Window Start', 'Heart Rate': 'Mean HR'}\n",
    ")\n",
    "mean_hr_df"
   ]
  },
  {
   "cell_type": "code",
   "execution_count": 14,
   "id": "2c4a978b",
   "metadata": {},
   "outputs": [
    {
     "data": {
      "text/plain": [
       "973"
      ]
     },
     "execution_count": 14,
     "metadata": {},
     "output_type": "execute_result"
    }
   ],
   "source": [
    "filtered_array = np.delete(beats, bad_windows, axis=0)\n",
    "len(filtered_array)"
   ]
  },
  {
   "cell_type": "code",
   "execution_count": 15,
   "id": "26445ae3",
   "metadata": {},
   "outputs": [],
   "source": [
    "# drop from beats and mean_hr_df the indices in bad windows\n",
    "existing_bad_windows = [idx for idx in bad_windows if idx in mean_hr_df.index]\n",
    "filtered_df = mean_hr_df.drop(index=existing_bad_windows)\n",
    "# same number of windows"
   ]
  },
  {
   "cell_type": "code",
   "execution_count": 16,
   "id": "abd15457",
   "metadata": {},
   "outputs": [
    {
     "name": "stdout",
     "output_type": "stream",
     "text": [
      "MAE: 10.872\n",
      "RMSE: 13.068\n",
      "MAPE: 14.57%\n"
     ]
    }
   ],
   "source": [
    "# error calculation\n",
    "y_true = filtered_df['Mean HR'].values\n",
    "y_pred = filtered_array\n",
    "# Mean Absolute Error (MAE)\n",
    "mae = np.mean(np.abs(y_true - y_pred))\n",
    "\n",
    "# Root Mean Square Error (RMSE)\n",
    "rmse = np.sqrt(np.mean((y_true - y_pred) ** 2))\n",
    "\n",
    "# Mean Absolute Percentage Error (MAPE)\n",
    "# Add small epsilon to avoid division by zero\n",
    "epsilon = 1e-10\n",
    "mape = np.mean(np.abs((y_true - y_pred) / (y_true + epsilon))) * 100\n",
    "\n",
    "print(f\"MAE: {mae:.3f}\")\n",
    "print(f\"RMSE: {rmse:.3f}\")\n",
    "print(f\"MAPE: {mape:.2f}%\")\n"
   ]
  },
  {
   "cell_type": "code",
   "execution_count": null,
   "id": "0fae51a8",
   "metadata": {},
   "outputs": [],
   "source": []
  },
  {
   "cell_type": "code",
   "execution_count": null,
   "id": "626be748",
   "metadata": {},
   "outputs": [],
   "source": []
  }
 ],
 "metadata": {
  "kernelspec": {
   "display_name": "Python 3",
   "language": "python",
   "name": "python3"
  },
  "language_info": {
   "codemirror_mode": {
    "name": "ipython",
    "version": 3
   },
   "file_extension": ".py",
   "mimetype": "text/x-python",
   "name": "python",
   "nbconvert_exporter": "python",
   "pygments_lexer": "ipython3",
   "version": "3.10.12"
  }
 },
 "nbformat": 4,
 "nbformat_minor": 5
}
