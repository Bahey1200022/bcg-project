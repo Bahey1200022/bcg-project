{
 "cells": [
  {
   "cell_type": "code",
   "execution_count": 42,
   "id": "78ec9044",
   "metadata": {},
   "outputs": [],
   "source": [
    "# Imports\n",
    "import pandas as pd\n",
    "import matplotlib.pyplot as plt\n",
    "import numpy as np\n",
    "from scipy.signal import resample\n",
    "import pywt\n",
    "import heartpy as hp\n",
    "from scipy.signal import savgol_filter\n",
    "from scipy.signal import butter, filtfilt, resample\n",
    "from scipy import signal\n",
    "from data_subplot import data_subplot\n",
    "\n",
    "from detect_body_movements import detect_patterns\n",
    "from band_pass_filtering import band_pass_filtering\n",
    "from modwt_matlab_fft import modwt\n",
    "from modwt_mra_matlab_fft import modwtmra\n",
    "import math\n",
    "from remove_nonLinear_trend import remove_nonLinear_trend\n",
    "from compute_vitals import vitals\n",
    "\n",
    "%matplotlib inline"
   ]
  },
  {
   "cell_type": "markdown",
   "id": "bae78ce5",
   "metadata": {},
   "source": [
    "SYNCHRONIZATION FUNCTION\n"
   ]
  },
  {
   "cell_type": "code",
   "execution_count": 43,
   "id": "fa59601e",
   "metadata": {},
   "outputs": [],
   "source": [
    "\n",
    "\n",
    "# SYNC\n",
    "def build_bcg_df(bcg_values, initial_timestamp, fs):\n",
    "    \"\"\"\n",
    "    Constructs a BCG DataFrame from raw values, initial timestamp, and sampling rate.\n",
    "    \n",
    "    Args:\n",
    "        bcg_values: List of BCG signal values (e.g., [-86, -90, -91, -86])\n",
    "        initial_timestamp: Timestamp of first sample (epoch ms or datetime string)\n",
    "        fs: Sampling frequency in Hz\n",
    "        \n",
    "    Returns:\n",
    "        pd.DataFrame with columns: ['Timestamp', 'BCG', 'Time']\n",
    "    \"\"\"\n",
    "    # Convert timestamp to datetime if it's a string\n",
    "    if isinstance(initial_timestamp, str):\n",
    "        initial_timestamp = pd.to_datetime(initial_timestamp)\n",
    "    elif isinstance(initial_timestamp, (int, float)):\n",
    "        initial_timestamp = pd.to_datetime(initial_timestamp, unit='ms')\n",
    "    \n",
    "    # Calculate time intervals\n",
    "    period = 1 / fs\n",
    "    timestamps = [initial_timestamp + pd.Timedelta(seconds=i*period) \n",
    "                 for i in range(len(bcg_values))]\n",
    "    \n",
    "    # Create DataFrame\n",
    "    df = pd.DataFrame({\n",
    "        'Timestamp': timestamps,\n",
    "        'BCG': bcg_values\n",
    "    })\n",
    "    \n",
    "    # Add human-readable time\n",
    "    df['Time'] = df['Timestamp'].dt.strftime('%H:%M:%S.%f')\n",
    "    \n",
    "    return df\n",
    "\n",
    "\n",
    "\n",
    "\n",
    "def synchronize_bcg_and_hr(df_bcg_raw, df_hr_raw):\n",
    "    \"\"\"\n",
    "    Builds and synchronizes BCG and HR DataFrames starting from the first common time.\n",
    "    \n",
    "    Args:\n",
    "        df_bcg_raw: Raw BCG DataFrame from CSV. Must contain 'BCG', 'Timestamp', and 'fs' columns.\n",
    "        df_hr_raw: Raw HR DataFrame from CSV. Must contain 'Timestamp' column in datetime-compatible format.\n",
    "    \n",
    "    Returns:\n",
    "        bcg_aligned, hr_aligned: Time-synchronized DataFrames\n",
    "    \"\"\"\n",
    "        # Parse BCG values and metadata\n",
    "    bcg_values = df_bcg_raw['BCG'].tolist()\n",
    "    initial_timestamp = pd.to_datetime(df_bcg_raw.loc[0, 'Timestamp'], unit='ms')\n",
    "    fs = float(df_bcg_raw.loc[0, 'fs'])\n",
    "\n",
    "    # Build BCG DataFrame\n",
    "    df_bcg = build_bcg_df(bcg_values, initial_timestamp, fs)\n",
    "\n",
    "    # Parse HR timestamps\n",
    "    df_hr_raw['Timestamp'] = pd.to_datetime(df_hr_raw['Timestamp'])\n",
    "\n",
    "    # Find common time range\n",
    "    start_time = max(df_bcg['Timestamp'].min(), df_hr_raw['Timestamp'].min())\n",
    "    end_time = min(df_bcg['Timestamp'].max(), df_hr_raw['Timestamp'].max())\n",
    "\n",
    "    # Trim both DataFrames to common range\n",
    "    bcg_aligned = df_bcg[(df_bcg['Timestamp'] >= start_time) & (df_bcg['Timestamp'] <= end_time)].copy()\n",
    "    hr_aligned = df_hr_raw[(df_hr_raw['Timestamp'] >= start_time) & (df_hr_raw['Timestamp'] <= end_time)].copy()\n",
    "\n",
    "    # Reset index\n",
    "    bcg_aligned.reset_index(drop=True, inplace=True)\n",
    "    hr_aligned.reset_index(drop=True, inplace=True)\n",
    "\n",
    "    return bcg_aligned, hr_aligned\n",
    "\n",
    "\n",
    "\n",
    "\n"
   ]
  },
  {
   "cell_type": "markdown",
   "id": "8b6a8a10",
   "metadata": {},
   "source": [
    "DATA SAMPLE LOADING"
   ]
  },
  {
   "cell_type": "code",
   "execution_count": 53,
   "id": "95ed28cb",
   "metadata": {},
   "outputs": [
    {
     "name": "stdout",
     "output_type": "stream",
     "text": [
      "Time synchronized BCG DataFrame:\n",
      "                      Timestamp  BCG             Time\n",
      "0 2023-11-05 00:03:48.005714285  -60  00:03:48.005714\n",
      "1 2023-11-05 00:03:48.012857142  -79  00:03:48.012857\n",
      "2 2023-11-05 00:03:48.019999999  -77  00:03:48.019999\n",
      "3 2023-11-05 00:03:48.027142857  -80  00:03:48.027142\n",
      "4 2023-11-05 00:03:48.034285714  -58  00:03:48.034285\n",
      "\n",
      "Time synchronized Heart Rate DataFrame:\n",
      "            Timestamp  Heart Rate  RR Interval in seconds\n",
      "0 2023-11-05 00:03:48          84                   0.813\n",
      "1 2023-11-05 00:03:49          83                   0.876\n",
      "2 2023-11-05 00:03:50          81                   0.745\n",
      "3 2023-11-05 00:03:50          81                   0.706\n",
      "4 2023-11-05 00:03:51          81                   0.722\n"
     ]
    }
   ],
   "source": [
    "\n",
    "#read csv files\n",
    "df_bcg= pd.read_csv('/home/bahey/bio_data/dataset/data/03/BCG/03_20231105_BCG.csv')        #### n4 &\n",
    "df_heart=pd.read_csv(\"/home/bahey/bio_data/dataset/data/03/Reference/RR/03_20231105_RR.csv\")   #### 1 second one\n",
    "\n",
    "# step 1 :Synchronize BCG and HR DataFrames from the first common time\n",
    "bcg_sync, hr_sync = synchronize_bcg_and_hr(df_bcg, df_heart)\n",
    "\n",
    "print(\"Time synchronized BCG DataFrame:\")\n",
    "print(bcg_sync.head())\n",
    "print(\"\\nTime synchronized Heart Rate DataFrame:\")\n",
    "print(hr_sync.head())\n"
   ]
  },
  {
   "cell_type": "markdown",
   "id": "61e76114",
   "metadata": {},
   "source": [
    "SET TIMESTAMP AS INDEX IN REFERENCE HR"
   ]
  },
  {
   "cell_type": "code",
   "execution_count": 54,
   "id": "d243459a",
   "metadata": {},
   "outputs": [],
   "source": [
    "hr_sync['Timestamp'] = pd.to_datetime(hr_sync['Timestamp'])\n",
    "\n",
    "# Set Timestamp as the index\n",
    "hr_sync.set_index('Timestamp', inplace=True)\n"
   ]
  },
  {
   "cell_type": "markdown",
   "id": "e2a6c78f",
   "metadata": {},
   "source": [
    "RESAMPLING TO 50 HZ"
   ]
  },
  {
   "cell_type": "code",
   "execution_count": 55,
   "id": "3ef083a0",
   "metadata": {},
   "outputs": [
    {
     "name": "stdout",
     "output_type": "stream",
     "text": [
      "                      Timestamp         BCG             Time\n",
      "0 2023-11-05 00:03:48.005714285 -123.144952  00:03:48.005714\n",
      "1 2023-11-05 00:03:48.025714400  -47.512363  00:03:48.025714\n",
      "2 2023-11-05 00:03:48.045714516  -75.158862  00:03:48.045714\n",
      "3 2023-11-05 00:03:48.065714632 -206.820384  00:03:48.065714\n",
      "4 2023-11-05 00:03:48.085714748  -22.344240  00:03:48.085714\n"
     ]
    }
   ],
   "source": [
    "# resample bcg to 50 hz \n",
    "bcg_sync.set_index('Timestamp', inplace=True)\n",
    "\n",
    "# Original sampling rate (140 Hz)\n",
    "fs_original = 140  \n",
    "# Target sampling rate (50 Hz)\n",
    "fs_target = 50  \n",
    "\n",
    "# Calculate resampling factor\n",
    "resample_factor = fs_target / fs_original\n",
    "\n",
    "# Number of samples in resampled signal\n",
    "num_samples = int(len(bcg_sync) * resample_factor)\n",
    "\n",
    "# Resample the BCG signal using Fourier method (preserves timing information)\n",
    "resampled_bcg = signal.resample(bcg_sync['BCG'], num_samples)\n",
    "\n",
    "# Create new timestamps for the resampled data\n",
    "start_time = bcg_sync.index[0]\n",
    "end_time = bcg_sync.index[-1]\n",
    "new_timestamps = pd.date_range(start=start_time, end=end_time, periods=num_samples)\n",
    "\n",
    "# Create new DataFrame with resampled data\n",
    "resampled_df = pd.DataFrame({\n",
    "    'BCG': resampled_bcg,\n",
    "    'Time': new_timestamps.time\n",
    "}, index=new_timestamps)\n",
    "\n",
    "# Reset index if you want Timestamp as a column again\n",
    "resampled_df.reset_index(inplace=True)\n",
    "resampled_df.rename(columns={'index': 'Timestamp'}, inplace=True)\n",
    "\n",
    "print(resampled_df.head())"
   ]
  },
  {
   "cell_type": "markdown",
   "id": "7d1f72f6",
   "metadata": {},
   "source": [
    "NUMBER OF WINDOWS"
   ]
  },
  {
   "cell_type": "code",
   "execution_count": 56,
   "id": "75904e80",
   "metadata": {},
   "outputs": [
    {
     "name": "stdout",
     "output_type": "stream",
     "text": [
      "517\n"
     ]
    }
   ],
   "source": [
    "total =len(resampled_df)/500\n",
    "total = int(total)\n",
    "print(total)"
   ]
  },
  {
   "cell_type": "markdown",
   "id": "d0ba7408",
   "metadata": {},
   "source": [
    "GENERATION OF VALID SLEEP SIGNAL SAMPLES"
   ]
  },
  {
   "cell_type": "code",
   "execution_count": 57,
   "id": "94981ff4",
   "metadata": {},
   "outputs": [
    {
     "name": "stderr",
     "output_type": "stream",
     "text": [
      "/tmp/ipykernel_17399/598734467.py:3: FutureWarning: Series.view is deprecated and will be removed in a future version. Use ``astype`` as an alternative to change the dtype.\n",
      "  bcg['epoch'] = bcg['Timestamp'].view('int64') // 10**6 # convert to milliseconds\n"
     ]
    },
    {
     "name": "stdout",
     "output_type": "stream",
     "text": [
      "Data stream length: 258632\n",
      "Bad windows: [  6   7  89  90 103 122 123 166 167 171 195 196 226 227 276 277 318 320\n",
      " 321 323 324 325 327 328 334 335 342 348 349 351 360 363 364 365 376 377\n",
      " 378 379 380 384 392 398 400 402 403 405 426 427 428 430 431 433 435 441\n",
      " 443 451 457 472 489 510 511]\n"
     ]
    },
    {
     "data": {
      "image/png": "[encoded data removed]",
      "text/plain": [
       "<Figure size 640x480 with 1 Axes>"
      ]
     },
     "metadata": {},
     "output_type": "display_data"
    }
   ],
   "source": [
    "bcg = resampled_df\n",
    "start_point, end_point, window_shift, fs = 0, 500, 500, 50\n",
    "bcg['epoch'] = bcg['Timestamp'].view('int64') // 10**6 # convert to milliseconds\n",
    "utc_time = bcg['epoch']\n",
    "data_stream = bcg['BCG']\n",
    "print(\"Data stream length:\", len(data_stream))\n",
    "data_stream, utc_time, bad_windows  = detect_patterns(start_point, end_point, window_shift, data_stream, utc_time, plot=1)\n",
    "print(\"Bad windows:\", bad_windows)"
   ]
  },
  {
   "cell_type": "markdown",
   "id": "f9e542c4",
   "metadata": {},
   "source": [
    "FILTERING ALONG WITH S4 DECOMPOSITION FOR BETTER J PEAKS DETECTION"
   ]
  },
  {
   "cell_type": "code",
   "execution_count": 58,
   "id": "cad54a99",
   "metadata": {},
   "outputs": [
    {
     "name": "stdout",
     "output_type": "stream",
     "text": [
      "Wavelet Cycle Length: 258570\n"
     ]
    },
    {
     "data": {
      "image/png": "[encoded data removed]",
      "text/plain": [
       "<Figure size 1200x600 with 1 Axes>"
      ]
     },
     "metadata": {},
     "output_type": "display_data"
    }
   ],
   "source": [
    "movement = band_pass_filtering(data_stream, fs, \"bcg\")\n",
    "breathing = band_pass_filtering(data_stream, fs, \"breath\")\n",
    "breathing = remove_nonLinear_trend(breathing, 3)\n",
    "breathing = savgol_filter(breathing, 11, 3)\n",
    "w = modwt(movement, 'bior3.9', 4)\n",
    "dc = modwtmra(w, 'bior3.9')\n",
    "wavelet_cycle = dc[4]\n",
    "print(\"Wavelet Cycle Length:\", len(wavelet_cycle))\n",
    "# plot the wavelet cycle\n",
    "plt.figure(figsize=(12, 6))\n",
    "plt.plot(utc_time, wavelet_cycle, label='Wavelet Cycle', color='blue')\n",
    "plt.title('Wavelet Cycle')\n",
    "plt.xlabel('Time')\n",
    "plt.ylabel('Amplitude')\n",
    "plt.legend()\n",
    "plt.grid()\n",
    "plt.show()"
   ]
  },
  {
   "cell_type": "markdown",
   "id": "f3f47ae6",
   "metadata": {},
   "source": [
    "COMPUTING HR FOR EACH WINDOW"
   ]
  },
  {
   "cell_type": "code",
   "execution_count": 59,
   "id": "c5b57d72",
   "metadata": {},
   "outputs": [],
   "source": [
    "t1, t2, window_length, window_shift = 0, 500, 500, 500\n",
    "hop_size = math.floor((window_length - 1) / 2)\n",
    "limit = int(math.floor(breathing.size / window_shift))\n",
    "beats = vitals(t1, t2, window_shift, limit, wavelet_cycle, utc_time.values, mpd=1, plot=0)  # utc_time.values in seconds \n"
   ]
  },
  {
   "cell_type": "code",
   "execution_count": 60,
   "id": "9b52a4b1",
   "metadata": {},
   "outputs": [
    {
     "name": "stdout",
     "output_type": "stream",
     "text": [
      "Minimum pulse :  59.0\n",
      "Maximum pulse :  101.0\n",
      "Average pulse :  80.0\n",
      "length of pulse :  517\n"
     ]
    }
   ],
   "source": [
    "print('Minimum pulse : ', np.around(np.min(beats)))\n",
    "print('Maximum pulse : ', np.around(np.max(beats)))\n",
    "print('Average pulse : ', np.around(np.mean(beats)))\n",
    "print('length of pulse : ', int(len(beats)))"
   ]
  },
  {
   "cell_type": "markdown",
   "id": "013ef4cd",
   "metadata": {},
   "source": [
    "GETTING REFERENCE HR FOR EACH VALID WINDOW"
   ]
  },
  {
   "cell_type": "code",
   "execution_count": 61,
   "id": "c84e7d6f",
   "metadata": {},
   "outputs": [
    {
     "data": {
      "text/plain": [
       "DatetimeIndex(['2023-11-05 00:03:48', '2023-11-05 00:03:49',\n",
       "               '2023-11-05 00:03:50', '2023-11-05 00:03:50',\n",
       "               '2023-11-05 00:03:51', '2023-11-05 00:03:52',\n",
       "               '2023-11-05 00:03:53', '2023-11-05 00:03:54',\n",
       "               '2023-11-05 00:03:54', '2023-11-05 00:03:55',\n",
       "               ...\n",
       "               '2023-11-05 01:29:44', '2023-11-05 01:29:44',\n",
       "               '2023-11-05 01:29:45', '2023-11-05 01:29:46',\n",
       "               '2023-11-05 01:29:47', '2023-11-05 01:29:48',\n",
       "               '2023-11-05 01:29:48', '2023-11-05 01:29:59',\n",
       "               '2023-11-05 01:29:59', '2023-11-05 01:30:00'],\n",
       "              dtype='datetime64[ns]', name='Timestamp', length=6459, freq=None)"
      ]
     },
     "execution_count": 61,
     "metadata": {},
     "output_type": "execute_result"
    }
   ],
   "source": [
    "hr_sync.index "
   ]
  },
  {
   "cell_type": "code",
   "execution_count": 62,
   "id": "7de7c1ee",
   "metadata": {},
   "outputs": [
    {
     "name": "stderr",
     "output_type": "stream",
     "text": [
      "/tmp/ipykernel_17399/3326357812.py:4: FutureWarning: 'S' is deprecated and will be removed in a future version, please use 's' instead.\n",
      "  mean_hr_df = hr_sync.resample('10S').mean(numeric_only=True).dropna().reset_index()\n"
     ]
    },
    {
     "data": {
      "text/html": [
       "<div>\n",
       "<style scoped>\n",
       "    .dataframe tbody tr th:only-of-type {\n",
       "        vertical-align: middle;\n",
       "    }\n",
       "\n",
       "    .dataframe tbody tr th {\n",
       "        vertical-align: top;\n",
       "    }\n",
       "\n",
       "    .dataframe thead th {\n",
       "        text-align: right;\n",
       "    }\n",
       "</style>\n",
       "<table border=\"1\" class=\"dataframe\">\n",
       "  <thead>\n",
       "    <tr style=\"text-align: right;\">\n",
       "      <th></th>\n",
       "      <th>Window Start</th>\n",
       "      <th>Mean HR</th>\n",
       "    </tr>\n",
       "  </thead>\n",
       "  <tbody>\n",
       "    <tr>\n",
       "      <th>0</th>\n",
       "      <td>2023-11-05 00:03:40</td>\n",
       "      <td>83.500000</td>\n",
       "    </tr>\n",
       "    <tr>\n",
       "      <th>1</th>\n",
       "      <td>2023-11-05 00:03:50</td>\n",
       "      <td>79.923077</td>\n",
       "    </tr>\n",
       "    <tr>\n",
       "      <th>2</th>\n",
       "      <td>2023-11-05 00:04:00</td>\n",
       "      <td>78.384615</td>\n",
       "    </tr>\n",
       "    <tr>\n",
       "      <th>3</th>\n",
       "      <td>2023-11-05 00:04:10</td>\n",
       "      <td>79.785714</td>\n",
       "    </tr>\n",
       "    <tr>\n",
       "      <th>4</th>\n",
       "      <td>2023-11-05 00:04:20</td>\n",
       "      <td>80.846154</td>\n",
       "    </tr>\n",
       "    <tr>\n",
       "      <th>...</th>\n",
       "      <td>...</td>\n",
       "      <td>...</td>\n",
       "    </tr>\n",
       "    <tr>\n",
       "      <th>509</th>\n",
       "      <td>2023-11-05 01:29:20</td>\n",
       "      <td>78.000000</td>\n",
       "    </tr>\n",
       "    <tr>\n",
       "      <th>510</th>\n",
       "      <td>2023-11-05 01:29:30</td>\n",
       "      <td>78.000000</td>\n",
       "    </tr>\n",
       "    <tr>\n",
       "      <th>511</th>\n",
       "      <td>2023-11-05 01:29:40</td>\n",
       "      <td>78.250000</td>\n",
       "    </tr>\n",
       "    <tr>\n",
       "      <th>512</th>\n",
       "      <td>2023-11-05 01:29:50</td>\n",
       "      <td>76.000000</td>\n",
       "    </tr>\n",
       "    <tr>\n",
       "      <th>513</th>\n",
       "      <td>2023-11-05 01:30:00</td>\n",
       "      <td>76.000000</td>\n",
       "    </tr>\n",
       "  </tbody>\n",
       "</table>\n",
       "<p>514 rows × 2 columns</p>\n",
       "</div>"
      ],
      "text/plain": [
       "           Window Start    Mean HR\n",
       "0   2023-11-05 00:03:40  83.500000\n",
       "1   2023-11-05 00:03:50  79.923077\n",
       "2   2023-11-05 00:04:00  78.384615\n",
       "3   2023-11-05 00:04:10  79.785714\n",
       "4   2023-11-05 00:04:20  80.846154\n",
       "..                  ...        ...\n",
       "509 2023-11-05 01:29:20  78.000000\n",
       "510 2023-11-05 01:29:30  78.000000\n",
       "511 2023-11-05 01:29:40  78.250000\n",
       "512 2023-11-05 01:29:50  76.000000\n",
       "513 2023-11-05 01:30:00  76.000000\n",
       "\n",
       "[514 rows x 2 columns]"
      ]
     },
     "execution_count": 62,
     "metadata": {},
     "output_type": "execute_result"
    }
   ],
   "source": [
    "hr_sync.index = pd.to_datetime(hr_sync.index)\n",
    "\n",
    "# Resample into non-overlapping 10-second windows and compute mean HR\n",
    "mean_hr_df = hr_sync.resample('10S').mean(numeric_only=True).dropna().reset_index()\n",
    "\n",
    "# Select and rename columns\n",
    "mean_hr_df = mean_hr_df[['Timestamp', 'Heart Rate']].rename(\n",
    "    columns={'Timestamp': 'Window Start', 'Heart Rate': 'Mean HR'}\n",
    ")\n",
    "mean_hr_df"
   ]
  },
  {
   "cell_type": "markdown",
   "id": "774a33a6",
   "metadata": {},
   "source": [
    "ELIMINATING BAD WINDOWS (NO SLEEP AND MOVEMENT)"
   ]
  },
  {
   "cell_type": "code",
   "execution_count": 63,
   "id": "2c4a978b",
   "metadata": {},
   "outputs": [
    {
     "data": {
      "text/plain": [
       "456"
      ]
     },
     "execution_count": 63,
     "metadata": {},
     "output_type": "execute_result"
    }
   ],
   "source": [
    "filtered_array = np.delete(beats, bad_windows, axis=0)\n",
    "len(filtered_array)"
   ]
  },
  {
   "cell_type": "code",
   "execution_count": 64,
   "id": "26445ae3",
   "metadata": {},
   "outputs": [],
   "source": [
    "# drop from beats and mean_hr_df the indices in bad windows\n",
    "existing_bad_windows = [idx for idx in bad_windows if idx in mean_hr_df.index]\n",
    "filtered_df = mean_hr_df.drop(index=existing_bad_windows)\n",
    "# same number of windows"
   ]
  },
  {
   "cell_type": "markdown",
   "id": "8a3b762c",
   "metadata": {},
   "source": [
    "ERROR CALCULATION"
   ]
  },
  {
   "cell_type": "code",
   "execution_count": 65,
   "id": "abd15457",
   "metadata": {},
   "outputs": [
    {
     "name": "stdout",
     "output_type": "stream",
     "text": [
      "MAE: 6.918\n",
      "RMSE: 9.056\n",
      "MAPE: 8.45%\n"
     ]
    }
   ],
   "source": [
    "# error calculation\n",
    "# error calculation\n",
    "y_true = filtered_df['Mean HR'].values\n",
    "y_pred = filtered_array\n",
    "min_len = min(len(y_true), len(y_pred))\n",
    "\n",
    "# Trim both to the same length from the end\n",
    "y_true = y_true[:min_len]\n",
    "y_pred = y_pred[:min_len]\n",
    "# Mean Absolute Error (MAE)\n",
    "mae = np.mean(np.abs(y_true - y_pred))\n",
    "\n",
    "# Root Mean Square Error (RMSE)\n",
    "rmse = np.sqrt(np.mean((y_true - y_pred) ** 2))\n",
    "\n",
    "# Mean Absolute Percentage Error (MAPE)\n",
    "# Add small epsilon to avoid division by zero\n",
    "epsilon = 1e-10\n",
    "mape = np.mean(np.abs((y_true - y_pred) / (y_true + epsilon))) * 100\n",
    "\n",
    "print(f\"MAE: {mae:.3f}\")\n",
    "print(f\"RMSE: {rmse:.3f}\")\n",
    "print(f\"MAPE: {mape:.2f}%\")\n"
   ]
  },
  {
   "cell_type": "code",
   "execution_count": null,
   "id": "0fae51a8",
   "metadata": {},
   "outputs": [],
   "source": []
  },
  {
   "cell_type": "code",
   "execution_count": null,
   "id": "626be748",
   "metadata": {},
   "outputs": [],
   "source": []
  }
 ],
 "metadata": {
  "kernelspec": {
   "display_name": "Python 3",
   "language": "python",
   "name": "python3"
  },
  "language_info": {
   "codemirror_mode": {
    "name": "ipython",
    "version": 3
   },
   "file_extension": ".py",
   "mimetype": "text/x-python",
   "name": "python",
   "nbconvert_exporter": "python",
   "pygments_lexer": "ipython3",
   "version": "3.10.12"
  }
 },
 "nbformat": 4,
 "nbformat_minor": 5
}
